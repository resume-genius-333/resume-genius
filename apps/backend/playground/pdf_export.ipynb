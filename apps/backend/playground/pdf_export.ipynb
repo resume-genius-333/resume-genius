{
 "cells": [
  {
   "cell_type": "code",
   "execution_count": null,
   "id": "176b38ed",
   "metadata": {},
   "outputs": [],
   "source": [
    "import asyncio\n",
    "from playwright.async_api import async_playwright\n",
    "\n",
    "async def export_webpage_to_pdf():\n",
    "    async with async_playwright() as p:\n",
    "        # Launch browser\n",
    "        browser = await p.chromium.launch()\n",
    "        page = await browser.new_page()\n",
    "        \n",
    "        # Navigate to the webpage\n",
    "        await page.goto('https://example.com')\n",
    "        \n",
    "        # Wait for the data-ready attribute to be true\n",
    "        await page.wait_for_selector('.a4-container[data-ready=\"true\"]', timeout=30000)\n",
    "        \n",
    "        # Export to PDF\n",
    "        await page.pdf(\n",
    "            path='webpage.pdf',\n",
    "            format='A4',\n",
    "            print_background=True,\n",
    "            margin={\n",
    "                'top': '0px',\n",
    "                'right': '0px',\n",
    "                'bottom': '0px',\n",
    "                'left': '0px'\n",
    "            }\n",
    "        )\n",
    "        \n",
    "        # Close browser\n",
    "        await browser.close()\n",
    "        print('PDF created successfully!')\n",
    "\n",
    "# Run the async function\n",
    "asyncio.run(export_webpage_to_pdf())"
   ]
  }
 ],
 "metadata": {
  "kernelspec": {
   "display_name": ".venv",
   "language": "python",
   "name": "python3"
  },
  "language_info": {
   "codemirror_mode": {
    "name": "ipython",
    "version": 3
   },
   "file_extension": ".py",
   "mimetype": "text/x-python",
   "name": "python",
   "nbconvert_exporter": "python",
   "pygments_lexer": "ipython3",
   "version": "3.13.5"
  }
 },
 "nbformat": 4,
 "nbformat_minor": 5
}
