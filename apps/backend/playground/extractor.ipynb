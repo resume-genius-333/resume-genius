{
 "cells": [
  {
   "cell_type": "code",
   "execution_count": 12,
   "id": "c4e26e37",
   "metadata": {},
   "outputs": [],
   "source": [
    "import sys\n",
    "from pathlib import Path\n",
    "\n",
    "# Add the backend directory to the Python path\n",
    "backend_dir = Path.cwd().parent\n",
    "sys.path.insert(0, str(backend_dir))"
   ]
  },
  {
   "cell_type": "code",
   "execution_count": 6,
   "id": "0579b298",
   "metadata": {},
   "outputs": [],
   "source": [
    "from openai import AsyncOpenAI\n",
    "import os\n",
    "from pathlib import Path\n",
    "\n",
    "client = AsyncOpenAI(\n",
    "    base_url=os.environ.get('LITELLM_BASE_URL'),\n",
    "    api_key=os.environ.get('LITELLM_API_KEY'),\n",
    ")"
   ]
  },
  {
   "cell_type": "code",
   "execution_count": 7,
   "id": "525ecd49",
   "metadata": {},
   "outputs": [
    {
     "data": {
      "text/plain": [
       "FileObject(id='file-CqHBSiKG8GPEgB9dMmDK1T', bytes=50919, created_at=1755433787, filename='sample1.pdf', object='file', purpose='user_data', status='processed', expires_at=None, status_details=None)"
      ]
     },
     "execution_count": 7,
     "metadata": {},
     "output_type": "execute_result"
    }
   ],
   "source": [
    "upload = await client.files.create(\n",
    "    file=Path('./files/sample1.pdf'),\n",
    "    purpose='user_data',\n",
    ")\n",
    "upload"
   ]
  },
  {
   "cell_type": "code",
   "execution_count": 23,
   "id": "3cc30c59",
   "metadata": {},
   "outputs": [],
   "source": [
    "from src.schemas.llm.education import EducationLLMSchema\n",
    "\n",
    "output = await client.responses.parse(\n",
    "    model='gpt-5-mini',\n",
    "    text_format=EducationLLMSchema,\n",
    "    reasoning={\n",
    "        'effort': 'medium',\n",
    "    },\n",
    "    input=[\n",
    "        {\n",
    "            'role': 'user',\n",
    "            'content': [\n",
    "                {\n",
    "                    'type': 'input_text',\n",
    "                    'text': 'Help extract the education experience of this user.'\n",
    "                },\n",
    "                {\n",
    "                    'type': 'input_file',\n",
    "                    'file_id': upload.id\n",
    "                }\n",
    "            ]\n",
    "        }\n",
    "    ]\n",
    ")"
   ]
  },
  {
   "cell_type": "code",
   "execution_count": 26,
   "id": "70093182",
   "metadata": {},
   "outputs": [
    {
     "name": "stdout",
     "output_type": "stream",
     "text": [
      "{\n",
      "  \"institution_name\": \"National University of Singapore\",\n",
      "  \"degree\": \"bachelor\",\n",
      "  \"field_of_study\": \"Computer Science\",\n",
      "  \"focus_area\": \"Selected for NUS Overseas College (NOC) Stockholm — year-long exchange and overseas internship; participated in classes at KTH Royal Institute of Technology and Stockholm School of Economics\",\n",
      "  \"start_date\": \"August 2021\",\n",
      "  \"end_date\": \"December 2025 (Expected)\",\n",
      "  \"gpa\": 4.71,\n",
      "  \"max_gpa\": 5.0\n",
      "}\n"
     ]
    }
   ],
   "source": [
    "output_items = output.output\n",
    "for item in output_items:\n",
    "    if item.type == 'message':\n",
    "        content_items = item.content\n",
    "        for content in content_items:\n",
    "            if content.type == 'output_text':\n",
    "                print(content.parsed.model_dump_json(indent=2))"
   ]
  }
 ],
 "metadata": {
  "kernelspec": {
   "display_name": "backend",
   "language": "python",
   "name": "python3"
  },
  "language_info": {
   "codemirror_mode": {
    "name": "ipython",
    "version": 3
   },
   "file_extension": ".py",
   "mimetype": "text/x-python",
   "name": "python",
   "nbconvert_exporter": "python",
   "pygments_lexer": "ipython3",
   "version": "3.13.5"
  }
 },
 "nbformat": 4,
 "nbformat_minor": 5
}
